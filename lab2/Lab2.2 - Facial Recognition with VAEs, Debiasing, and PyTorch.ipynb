{
  "cells": [
    {
      "cell_type": "markdown",
      "metadata": {
        "id": "Ag_e7xtTzT1W"
      },
      "source": [
        "<table align=\"center\">\n",
        "  <td align=\"center\">\n",
        "    <a target=\"_blank\" href=\"http://inspiredk.org\">\n",
        "    <img align=\"center\" src=\"https://i.ibb.co/Z6HZPSbH/Inspired-K-org-Logo-No-Whitespace-Extra-Small.png\">InspiredK.org Website</a>\n",
        "  </td>\n",
        "  \n",
        "  <td align=\"center\">\n",
        "    <a target=\"_blank\" href=\"https://colab.research.google.com/github/InspiredK-organization/MITintrotodeeplearning/blob/master/lab2/Lab2.2 - Facial Recognition with VAEs, Debiasing, and PyTorch.ipynb\">\n",
        "    <img align=\"center\" src=\"https://i.ibb.co/2P3SLwK/colab.png\"/>Run in Google Colab</a>\n",
        "  </td>\n",
        "</table>\n",
        "\n",
        "# Copyright Information"
      ]
    },
    {
      "cell_type": "code",
      "execution_count": null,
      "metadata": {
        "id": "rNbf1pRlSDby"
      },
      "outputs": [],
      "source": [
        "# Copyright 2025 MIT Introduction to Deep Learning. All Rights Reserved.\n",
        "#\n",
        "# Licensed under the MIT License. You may not use this file except in compliance\n",
        "# with the License. Use and/or modification of this code outside of MIT Introduction\n",
        "# to Deep Learning must reference:\n",
        "#\n",
        "# © MIT Introduction to Deep Learning\n",
        "# http://introtodeeplearning.com\n",
        "#\n",
        "# Original lab is adopted from http://introtodeeplearning.com\n",
        "# Lab is edited by http://InspiredK.org"
      ]
    },
    {
      "cell_type": "markdown",
      "metadata": {
        "id": "QOpPUH3FR179"
      },
      "source": [
        "# Laboratory 2: Computer Vision\n",
        "\n",
        "# Part 2: Debiasing Facial Detection Systems\n",
        "\n",
        "In the second portion of the lab, we'll explore two prominent aspects of applied deep learning: facial detection and algorithmic bias.\n",
        "\n",
        "Deploying fair, unbiased AI systems is critical to their long-term acceptance. Consider the task of facial detection: given an image, is it an image of a face?  This seemingly simple, but extremely important, task is subject to significant amounts of algorithmic bias among select demographics.\n",
        "\n",
        "In this lab, we'll investigate [one recently published approach](http://introtodeeplearning.com/AAAI_MitigatingAlgorithmicBias.pdf) to addressing algorithmic bias. We'll build a facial detection model that learns the *latent variables* underlying face image datasets and uses this to adaptively re-sample the training data, thus mitigating any biases that may be present in order  to train a *debiased* model.\n",
        "\n",
        "Run the next code block for a short video from Google that explores how and why it's important to consider bias when thinking about machine learning:"
      ]
    },
    {
      "cell_type": "code",
      "execution_count": null,
      "metadata": {
        "id": "XQh5HZfbupFF"
      },
      "outputs": [],
      "source": [
        "import IPython # For special displays and control of code outputs.\n",
        "IPython.display.YouTubeVideo('59bMh59JQDo')"
      ]
    },
    {
      "cell_type": "markdown",
      "metadata": {
        "id": "3Ezfc6Yv6IhI"
      },
      "source": [
        "Before starting this lab, make sure that you change your runtime to a graphical processing unit (GPU). This can be done by navigating to Runtime > Change runtime type > Hardware accelerator > T4 GPU. The usage of a GPU is critical because it will significantly speed up your code's time to run.\n",
        "\n",
        "If you are unable to connect to a GPU or you reach the usage limit, a CPU can be used as the hardware accelerator. However, note that the code will take about twice as long to run, so make sure that you cannot connect to a GPU before using a CPU.\n",
        "\n",
        "Now that we are using a GPU, let's download the course repository, install dependencies, and import the relevant packages we'll need for this lab."
      ]
    },
    {
      "cell_type": "code",
      "execution_count": null,
      "metadata": {
        "id": "9MLH3vHqy741"
      },
      "outputs": [],
      "source": [
        "# Import PyTorch\n",
        "import torch\n",
        "import torch.nn as nn\n",
        "import torch.optim as optim\n",
        "import torch.nn.functional as F\n",
        "import torch.backends.cudnn as cudnn\n",
        "\n",
        "# Install opencv-python (cv2) as a dependency for the MIT package.\n",
        "!pip install opencv-python --quiet # OpenCV is a framework that supports computer vision tasks like ours.\n",
        "\n",
        "# Download and import the MIT Introduction to Deep Learning package.\n",
        "!pip install mitdeeplearning --quiet\n",
        "import mitdeeplearning as mdl\n",
        "\n",
        "# Import all remaining packages.\n",
        "import matplotlib.pyplot as plt # For graphical visualizations of different statistics.\n",
        "import numpy as np # For nparrays.\n",
        "from tqdm import tqdm # For textual progress bars.\n",
        "from pathlib import Path # For the processing of the training and testing datasets.\n",
        "\n",
        "# Create a variable to put certain operations on and off the GPU.\n",
        "device = torch.device(\"cuda\")\n",
        "cudnn.benchmark = True"
      ]
    },
    {
      "cell_type": "markdown",
      "metadata": {
        "id": "V0e77oOM3udR"
      },
      "source": [
        "## 2.1 Datasets\n",
        "\n",
        "We'll be using three datasets in this lab. In order to train our facial detection models, we'll need a dataset of positive examples (i.e., of faces) and a dataset of negative examples (i.e., of things that are not faces). We'll use these data to train our models to classify images as either faces or not faces. Finally, we'll need a test dataset of face images. Since we're concerned about the potential *bias* of our learned models against certain demographics, it's important that the test dataset we use has equal representation across the demographics or features of interest. In this lab, we'll consider skin tone and gender.\n",
        "\n",
        "1.   **Positive training data**: [CelebA Dataset](http://mmlab.ie.cuhk.edu.hk/projects/CelebA.html). A large-scale, highly varied dataset containing faces of many different celebrities.   \n",
        "2.   **Negative training data**: [ImageNet](http://www.image-net.org/). A dataset containing images across many different categories. We take our negative examples from some of the non-human categories.\n",
        "3.   **[Fitzpatrick Scale](https://en.wikipedia.org/wiki/Fitzpatrick_scale)**: A skin type classification system to label each image as \"Lighter\" or \"Darker\".\n",
        "\n",
        "Let's begin by importing these datasets. We've written a class that does a bit of data pre-processing to import the training data in a usable format."
      ]
    },
    {
      "cell_type": "code",
      "execution_count": null,
      "metadata": {
        "id": "RWXaaIWy6jVw"
      },
      "outputs": [],
      "source": [
        "# Create a location to store the dataset.\n",
        "CACHE_DIRECTORY = Path.home() / \".cache\" / \"mitdeeplearning\"\n",
        "CACHE_DIRECTORY.mkdir(parents=True, exist_ok=True)\n",
        "\n",
        "# Get the training data containing images from both CelebA and ImageNet.\n",
        "path_to_training_data = CACHE_DIRECTORY.joinpath(\"train_face.h5\")\n",
        "\n",
        "# Ensure we do not re-download the dataset if it is already there.\n",
        "if path_to_training_data.is_file():\n",
        "    print(f\"Using cached training data...\")\n",
        "else:\n",
        "    print(f\"Downloading training data...\")\n",
        "    url = \"https://www.dropbox.com/s/hlz8atheyozp1yx/train_face.h5?dl=1\"\n",
        "    torch.hub.download_url_to_file(url, path_to_training_data)\n",
        "\n",
        "# Create a TrainingDatasetLoader from MIT's package for the downloaded dataset.\n",
        "loader = mdl.lab2.TrainingDatasetLoader(\n",
        "    path_to_training_data, channels_last=False\n",
        ")"
      ]
    },
    {
      "cell_type": "markdown",
      "metadata": {
        "id": "yIE321rxa_b3"
      },
      "source": [
        "We can look at the size of the training dataset and grab a batch of size 100:"
      ]
    },
    {
      "cell_type": "code",
      "execution_count": null,
      "metadata": {
        "id": "DjPSjZZ_bGqe"
      },
      "outputs": [],
      "source": [
        "print(\"Number of training images: {}\".format(loader.get_train_size())) # Number of images that are in our training data.\n",
        "(images, labels) = loader.get_batch(100) # Get a random batch containing 100 images and their labels (face or not).\n",
        "\n",
        "B, C, H, W = images.shape # Get the shape of the image dataset to correctly define models (Batch Size * RGB * Height * Width)."
      ]
    },
    {
      "cell_type": "markdown",
      "metadata": {
        "id": "sxtkJoqF6oH1"
      },
      "source": [
        "Play around with displaying images to get a sense of what the training data actually looks like!"
      ]
    },
    {
      "cell_type": "code",
      "execution_count": null,
      "metadata": {
        "id": "Jg17jzwtbxDA"
      },
      "outputs": [],
      "source": [
        "# @title Change the sliders to look at positive and negative training examples! { run: \"auto\" }\n",
        "\n",
        "face_images = images[np.where(labels == 1)[0]].transpose(0, 2, 3, 1) # Get the images that are faces.\n",
        "not_face_images = images[np.where(labels == 0)[0]].transpose(0, 2, 3, 1) # Get the images that are not faces.\n",
        "\n",
        "idx_face = 0  # @param {type:\"slider\", min:0, max:50, step:1}\n",
        "idx_not_face = 0  # @param {type:\"slider\", min:0, max:50, step:1}\n",
        "\n",
        "# Show the image of the face at a given index.\n",
        "plt.figure(figsize=(5, 5))\n",
        "plt.subplot(1, 2, 1)\n",
        "plt.imshow(face_images[idx_face])\n",
        "plt.title(\"Face\"); plt.grid(False)\n",
        "\n",
        "# Show the image of the not-face at a given index.\n",
        "plt.subplot(1, 2, 2)\n",
        "plt.imshow(not_face_images[idx_not_face])\n",
        "plt.title(\"Not Face\"); plt.grid(False)"
      ]
    },
    {
      "cell_type": "markdown",
      "metadata": {
        "id": "NDj7KBaW8Asz"
      },
      "source": [
        "### Thinking about bias\n",
        "\n",
        "Remember we'll be training our facial detection classifiers on the large, well-curated CelebA dataset (and ImageNet), and then evaluating their accuracy by testing them on an independent test dataset. Our goal is to build a model that trains on CelebA *and* achieves high classification accuracy on the the test dataset across all demographics, and to thus show that this model does not suffer from any hidden bias.\n",
        "\n",
        "What exactly do we mean when we say a classifier is biased? In order to formalize this, we'll need to think about [*latent variables*](https://en.wikipedia.org/wiki/Latent_variable), variables that define a dataset but are not strictly observed. As defined in the generative modeling lecture, we'll use the term *latent space* to refer to the probability distributions of the aforementioned latent variables. Putting these ideas together, we consider a classifier *biased* if its classification decision changes after it sees some additional latent features. This notion of bias may be helpful to keep in mind throughout the rest of the lab."
      ]
    },
    {
      "cell_type": "markdown",
      "metadata": {
        "id": "AIFDvU4w8OIH"
      },
      "source": [
        "## 2.2 CNN for facial detection\n",
        "\n",
        "First, we'll define and train a CNN on the facial classification task, and evaluate its accuracy. Later, we'll evaluate the performance of our debiased models against this baseline CNN. The CNN model has a relatively standard architecture consisting of a series of convolutional layers with batch normalization followed by two fully connected layers to flatten the convolution output and generate a class prediction.\n",
        "\n",
        "### Define and train the CNN model\n",
        "\n",
        "Like we did in the first part of the lab, we'll define our CNN model, and then train on the CelebA and ImageNet datasets by leveraging PyTorch's automatic differentiation (`torch.autograd`) by using the `loss.backward()` and `optimizer.step()` functions."
      ]
    },
    {
      "cell_type": "code",
      "execution_count": null,
      "metadata": {
        "id": "82EVTAAW7B_X"
      },
      "outputs": [],
      "source": [
        "n_filters = 12 # Factor for the number of convolutional filters/feature maps in our model.\n",
        "\n",
        "def make_cnn_standard_classifier(n_outputs):\n",
        "  '''Function to define a standard CNN model'''\n",
        "\n",
        "  # Start by first defining a convolutional layer.\n",
        "  class ConvBlock(nn.Module):\n",
        "    def __init__(self, in_channels, out_channels, kernel_size, stride, padding=0):\n",
        "        super().__init__()\n",
        "        self.conv = nn.Conv2d(in_channels, out_channels, kernel_size, stride, padding) # The convolutional layer.\n",
        "        self.relu = nn.ReLU(inplace=True) # The non-linear activation function.\n",
        "        self.bn = nn.BatchNorm2d(out_channels) # The batch normalization layer (instead of pooling, it puts all values at a similar scale).\n",
        "\n",
        "    # Pass a given input through our convolutional layer.\n",
        "    def forward(self, x):\n",
        "        convOut = self.conv(x)\n",
        "        nonLinOut = self.relu(convOut)\n",
        "        y = self.bn(nonLinOut)\n",
        "        return y\n",
        "\n",
        "  # Now use the defined convolutional layer to create the CNN.\n",
        "  model = nn.Sequential(\n",
        "      # All input images have a shape of 64 x 64 in RGB format.\n",
        "\n",
        "      ConvBlock(C, n_filters, kernel_size=5, stride=2, padding=2), # First convolutional layer with 12 feature maps and 5x5 kernels.\n",
        "      ConvBlock(n_filters, 2*n_filters, kernel_size=5, stride=2, padding=2), # Second convolutional layer with 24 feature maps and 5x5 kernels.\n",
        "      ConvBlock(2*n_filters, 4*n_filters, kernel_size=3, stride=2, padding=1), # Third convolutional layer with 48 feature maps and 3x3 kernels.\n",
        "      ConvBlock(4*n_filters, 6*n_filters, kernel_size=3, stride=2, padding=1), # Final convolutional layer with 72 feature maps and 3x3 kernels.\n",
        "      nn.Flatten(), # Take the final convolutional output and turn it into one dimension.\n",
        "      nn.Linear(H // 16 * W // 16 * 6 * n_filters, 512), # Pass the vector through a dense layer with 512 neurons.\n",
        "      nn.ReLU(inplace=True), # Use ReLU to complete the dense layer.\n",
        "      nn.Linear(512, n_outputs), # Output the classification with a final dense layer.\n",
        "  )\n",
        "\n",
        "  return model.to(device)\n",
        "\n",
        "standard_cnn_classifier = make_cnn_standard_classifier(n_outputs=1)\n",
        "print(standard_cnn_classifier) # Print the model summary for all of our model's layers."
      ]
    },
    {
      "cell_type": "markdown",
      "metadata": {
        "id": "c-eWf3l_lCri"
      },
      "source": [
        "Now let's train the standard CNN that we just defined. Remember to rerun the above code cell before retraining with new parameters to reinitialize the model. If you do not do this, the new training you perform will be added onto the previous training."
      ]
    },
    {
      "cell_type": "code",
      "execution_count": null,
      "metadata": {
        "id": "eJlDGh1o31G1"
      },
      "outputs": [],
      "source": [
        "# Training hyperparameters - experiment to find what reaches the highest accuracy.\n",
        "params = dict(\n",
        "    batch_size = 64, # Number of random training examples fed in at one time.\n",
        "    learning_rate = 5e-3, # Learning rate for the optimizer.\n",
        ")\n",
        "# Find other optimizers to try at https://pytorch.org/docs/stable/optim.html#algorithms.\n",
        "optimizer = optim.Adam(standard_cnn_classifier.parameters(), lr=params[\"learning_rate\"]) # Define our optimizer with our set learning rate.\n",
        "loss_func = nn.BCEWithLogitsLoss() # Define our loss function.\n",
        "\n",
        "loss_history = mdl.util.LossHistory(smoothing_factor=0.99) # Create a list to track our loss during the training process.\n",
        "plotter = mdl.util.PeriodicPlotter(sec=2, xlabel='Iterations', ylabel='Loss') # Create a graph to plot the loss during the training process.\n",
        "if hasattr(tqdm, '_instances'): tqdm._instances.clear() # Clear any previous progress bars if they exist.\n",
        "\n",
        "standard_cnn_classifier.train() # Set the model into its training mode.\n",
        "\n",
        "def standard_train_step(x, y):\n",
        "    x = torch.from_numpy(x).float().to(device)\n",
        "    y = torch.from_numpy(y).float().to(device)\n",
        "\n",
        "    # Clear the previous gradients of the optimizer.\n",
        "    optimizer.zero_grad()\n",
        "\n",
        "    # Feed the given images into the model.\n",
        "    logits = standard_cnn_classifier(x)\n",
        "\n",
        "    # Compute the loss based on these predictions and the actual expected outputs.\n",
        "    loss = loss_func(logits, y)\n",
        "\n",
        "    # Backpropagation by computing the gradient on our loss and applying it.\n",
        "    loss.backward() # Compute the gradient for the loss with the hyperparameters.\n",
        "    optimizer.step() # Apply the gradient on the model using our optimizer and the hyperparameters.\n",
        "\n",
        "    return loss # Return our loss for graphing purposes.\n",
        "\n",
        "for _ in tqdm(range(loader.get_train_size() // params[\"batch_size\"])): # Compute number of possible batches that can be made from our dataset and train for every possible batch.\n",
        "    # Grab a batch of training data and propagate through the network\n",
        "    x, y = loader.get_batch(params[\"batch_size\"]) # Get a batch of training data (images and labels).\n",
        "    loss = standard_train_step(x, y) # Compute the loss for these inputs.\n",
        "    loss = loss.detach().cpu().numpy()\n",
        "\n",
        "    loss_history.append(loss) # Add the loss to the loss_history list.\n",
        "    plotter.plot(loss_history.get()) # Graph the new loss_history list for progress tracking.\n",
        "\n",
        "print('\\nFinal loss after training:', loss)"
      ]
    },
    {
      "cell_type": "markdown",
      "metadata": {
        "id": "AKMdWVHeCxj8"
      },
      "source": [
        "### Evaluate performance of the standard CNN\n",
        "\n",
        "Next, let's evaluate the classification performance of our CelebA-trained standard CNN on the training dataset.\n"
      ]
    },
    {
      "cell_type": "code",
      "execution_count": null,
      "metadata": {
        "id": "35-PDgjdWk6_"
      },
      "outputs": [],
      "source": [
        "standard_cnn_classifier.eval() # Set the model into its testing (eval) mode.\n",
        "\n",
        "# Get a batch of 5,000 images and labels to see the training accuracy of our model.\n",
        "(batch_x, batch_y) = loader.get_batch(5000)\n",
        "batch_x = torch.from_numpy(batch_x).float().to(device)\n",
        "batch_y = torch.from_numpy(batch_y).float().to(device)\n",
        "\n",
        "with torch.inference_mode(): # Make sure our model is outputting predictions for its inputs.\n",
        "    y_pred_logits = standard_cnn_classifier(batch_x) # Get the predictions for our inputs.\n",
        "    y_pred_standard = torch.round(torch.sigmoid(y_pred_logits)) # Turn them into probabilities from 0 to 1.\n",
        "    acc_standard = torch.mean((batch_y == y_pred_standard).float()) # Compute the accuracy of the predictions.\n",
        "\n",
        "print(\"Standard CNN accuracy on the training set: {:.4f}\".format(acc_standard.item()))"
      ]
    },
    {
      "cell_type": "markdown",
      "metadata": {
        "id": "Qu7R14KaEEvU"
      },
      "source": [
        "We will also evaluate our networks on an independent test dataset containing faces that were not seen during training. For the test data, we'll look at the classification accuracy across four different demographics, based on the Fitzpatrick skin scale and sex-based labels: dark-skinned male, dark-skinned female, light-skinned male, and light-skinned female.\n",
        "\n",
        "Let's take a look at some sample faces in the test set."
      ]
    },
    {
      "cell_type": "code",
      "execution_count": null,
      "metadata": {
        "id": "vfDD8ztGWk6x"
      },
      "outputs": [],
      "source": [
        "test_faces = mdl.lab2.get_test_faces(channels_last=False) # Get 5 faces from each of the below keys.\n",
        "keys = [\"Light Female\", \"Light Male\", \"Dark Female\", \"Dark Male\"]\n",
        "fig, axs = plt.subplots(1, len(keys), figsize=(7.5, 7.5))\n",
        "for i, (group, key) in enumerate(zip(test_faces, keys)): # For each key and its images, display them together.\n",
        "    axs[i].imshow(np.hstack(group).transpose(1, 2, 0))\n",
        "    axs[i].set_title(key, fontsize=15)\n",
        "    axs[i].axis(\"off\")"
      ]
    },
    {
      "cell_type": "markdown",
      "metadata": {
        "id": "uo1z3cdbEUMM"
      },
      "source": [
        "Now, let's evaluate the probability of each of these face demographics being classified as a face using the standard CNN classifier we've just trained."
      ]
    },
    {
      "cell_type": "code",
      "execution_count": null,
      "metadata": {
        "id": "GI4O0Y1GAot9"
      },
      "outputs": [],
      "source": [
        "standard_cnn_classifier_probs_list = [] # Store the probabilities for each demographic.\n",
        "\n",
        "with torch.inference_mode(): # Make sure our model is outputting predictions for its inputs.\n",
        "    for x in test_faces: # Input every face in our testing images.\n",
        "        x = torch.from_numpy(np.array(x, dtype=np.float32)).to(device) # Convert it to numerical format.\n",
        "        logits = standard_cnn_classifier(x) # Pass the input through our model.\n",
        "\n",
        "        # Change the output to become a probability and add it to our storage list.\n",
        "        probs = torch.sigmoid(logits)\n",
        "        probs = torch.squeeze(probs, dim=-1)\n",
        "        standard_cnn_classifier_probs_list.append(probs.cpu().numpy())\n",
        "\n",
        "standard_cnn_classifier_probs = np.stack(standard_cnn_classifier_probs_list, axis=0) # Sort our probabilities by demographic.\n",
        "\n",
        "# Plot the prediction accuracies for each demographic.\n",
        "xx = range(len(keys))\n",
        "yy = standard_cnn_classifier_probs.mean(axis=1)\n",
        "plt.bar(xx, yy)\n",
        "plt.xticks(xx, keys)\n",
        "plt.ylim(max(0, yy.min() - np.ptp(yy) / 2.), yy.max() + np.ptp(yy) / 2.)\n",
        "plt.title(\"Standard CNN Classifier Predictions\")"
      ]
    },
    {
      "cell_type": "markdown",
      "metadata": {
        "id": "j0Cvvt90DoAm"
      },
      "source": [
        "Take a look at the accuracies for this first model across these four groups. What do you observe? Would you consider this model biased or unbiased? What are some reasons why a trained model may have biased accuracies?"
      ]
    },
    {
      "cell_type": "markdown",
      "metadata": {
        "id": "0AKcHnXVtgqJ"
      },
      "source": [
        "## 2.3 Mitigating algorithmic bias\n",
        "\n",
        "Imbalances in the training data can result in unwanted algorithmic bias. For example, the majority of faces in CelebA (our training set) are those of light-skinned females. As a result, a classifier trained on CelebA will be better suited at recognizing and classifying faces with features similar to these, and will thus be biased.\n",
        "\n",
        "How could we overcome this? A naive solution -- and one that is being adopted by many companies and organizations -- would be to annotate different subclasses (i.e., light-skinned females, males with hats, etc.) within the training data, and then manually even out the data with respect to these groups.\n",
        "\n",
        "But this approach has two major disadvantages. First, it requires annotating massive amounts of data, which is not scalable. Second, it requires that we know what potential biases (e.g., race, gender, pose, occlusion, hats, glasses, etc.) to look for in the data. As a result, manual annotation may not capture all the different features that are imbalanced within the training data.\n",
        "\n",
        "Instead, let's actually **learn** these features in an unbiased, unsupervised manner, without the need for any annotation, and then train a classifier fairly with respect to these features. In the rest of this lab, we'll do exactly that."
      ]
    },
    {
      "cell_type": "markdown",
      "metadata": {
        "id": "nLemS7dqECsI"
      },
      "source": [
        "## 2.4 Variational autoencoder (VAE) for learning latent structure\n",
        "\n",
        "As you saw, the accuracy of the CNN varies across the four demographics we looked at. To think about why this may be, consider the dataset the model was trained on, CelebA. If certain features, such as dark skin or hats, are *rare* in CelebA, the model may end up biased against these as a result of training with a biased dataset. That is to say, its classification accuracy will be worse on faces that have under-represented features, such as dark-skinned faces or faces with hats, relevative to faces with features well-represented in the training data! This is a problem.\n",
        "\n",
        "Our goal is to train a *debiased* version of this classifier -- one that accounts for potential disparities in feature representation within the training data. Specifically, to build a debiased facial classifier, we'll train a model that **learns a representation of the underlying latent space** to the face training data. The model then uses this information to mitigate unwanted biases by sampling faces with rare features, like dark skin or hats, *more frequently* during training. The key design requirement for our model is that it can learn an *encoding* of the latent features in the face data in an entirely *unsupervised* way. To achieve this, we'll turn to variational autoencoders (VAEs).\n",
        "\n",
        "![The concept of a VAE](https://i.ibb.co/3s4S6Gc/vae.jpg)\n",
        "\n",
        "As shown in the schematic above and in Lecture 4, VAEs rely on an encoder-decoder structure to learn a latent representation of the input data. In the context of computer vision, the encoder network takes in input images, encodes them into a series of variables defined by a mean and standard deviation, and then draws from the distributions defined by these parameters to generate a set of sampled latent variables. The decoder network then \"decodes\" these variables to generate a reconstruction of the original image, which is used during training to help the model identify which latent variables are important to learn.\n",
        "\n",
        "Let's formalize two key aspects of the VAE model and define relevant functions for each."
      ]
    },
    {
      "cell_type": "markdown",
      "metadata": {
        "id": "KmbXKtcPkTXA"
      },
      "source": [
        "### Understanding VAEs: loss function\n",
        "\n",
        "In practice, how can we train a VAE? In learning the latent space, we constrain the means and standard deviations to approximately follow a unit Gaussian. Recall that these are learned parameters, and therefore must factor into the loss computation, and that the decoder portion of the VAE is using these parameters to output a reconstruction that should closely match the input image, which also must factor into the loss. What this means is that we'll have two terms in our VAE loss function:\n",
        "\n",
        "1.  **Latent loss ($L_{KL}$)**: measures how closely the learned latent variables match a unit Gaussian and is defined by the Kullback-Leibler (KL) divergence.\n",
        "2.   **Reconstruction loss ($L_{x}{(x,\\hat{x})}$)**: measures how accurately the reconstructed outputs match the input and is given by the $L^1$ norm of the input image and its reconstructed output."
      ]
    },
    {
      "cell_type": "markdown",
      "metadata": {
        "id": "Ux3jK2wc153s"
      },
      "source": [
        "The equation for the latent loss is provided by:\n",
        "\n",
        "$$L_{KL}(\\mu, \\sigma) = \\frac{1}{2}\\sum_{j=0}^{k-1} (\\sigma_j + \\mu_j^2 - 1 - \\log{\\sigma_j})$$\n",
        "\n",
        "The equation for the reconstruction loss is provided by:\n",
        "\n",
        "$$L_{x}{(x,\\hat{x})} = ||x-\\hat{x}||_1$$\n",
        "\n",
        "Thus for the VAE loss we have:\n",
        "\n",
        "$$L_{VAE} = c\\cdot L_{KL} + L_{x}{(x,\\hat{x})}$$\n",
        "\n",
        "where $c$ is a weighting coefficient used for regularization. Now we're ready to define our VAE loss function:"
      ]
    },
    {
      "cell_type": "code",
      "execution_count": null,
      "metadata": {
        "id": "S00ASo1ImSuh"
      },
      "outputs": [],
      "source": [
        "def vae_loss_function(x, x_recon, mu, logsigma, kl_weight=0.0005):\n",
        "    '''Inputs:\n",
        "    * an input - x,\n",
        "    * reconstructed output - x_recon,\n",
        "    * encoded means - mu,\n",
        "    * encoded log of standard deviation - logsigma,\n",
        "    * weight parameter for the latent loss - kl_weight\n",
        "\n",
        "    Outputs:\n",
        "    * loss value - vae_loss\n",
        "    '''\n",
        "\n",
        "    # TODO: Define the latent loss. Note this is given in the first equation in the text block above.\n",
        "    latent_loss = # TODO\n",
        "\n",
        "    # TODO: Define the reconstruction loss as the mean absolute pixel-wise\n",
        "    # difference between the input and reconstruction. Hint: you'll need to use\n",
        "    # torch.mean, and specify the dimensions to reduce over. For example,\n",
        "    # reconstruction loss needs to average over the height, width, and channel image dimensions.\n",
        "    # https://pytorch.org/docs/stable/generated/torch.mean.html\n",
        "    reconstruction_loss = # TODO\n",
        "\n",
        "    # TODO: Define the VAE loss. Note this is given in the equation for L_VAE in the text block directly above\n",
        "    vae_loss = # TODO\n",
        "\n",
        "    return vae_loss"
      ]
    },
    {
      "cell_type": "markdown",
      "metadata": {
        "id": "E8mpb3pJorpu"
      },
      "source": [
        "Great! Now that we have a more concrete sense of how VAEs work, let's explore how we can leverage this network structure to train a *debiased* facial classifier."
      ]
    },
    {
      "cell_type": "markdown",
      "metadata": {
        "id": "DqtQH4S5fO8F"
      },
      "source": [
        "### Understanding VAEs: reparameterization\n",
        "\n",
        "As you may recall from lecture, VAEs use a \"reparameterization  trick\" for sampling learned latent variables. Instead of the VAE encoder generating a single vector of real numbers for each latent variable, it generates a vector of means and a vector of standard deviations that are constrained to roughly follow Gaussian distributions. We use Gaussian distrubutions as they lead to computational efficient training processes and provides a good role model distribution that the model should aim to maintain. Here is an example of the standard Gaussian distribution, which we will use for our model:\n",
        "\n",
        "<img src=\"https://i.ibb.co/chb3CwFx/Normal-Gaussian-Distribution-Example-for-Lab-2-2.png\">\n",
        "\n",
        "We then sample from the standard deviations and add back the mean to output this as our sampled latent vector. Formalizing this for a latent variable $z$ where we sample $\\epsilon \\sim N(0,(I))$ we have:\n",
        "\n",
        "$$z = \\mu + e^{\\left(\\frac{1}{2} \\cdot \\log{\\Sigma}\\right)}\\circ \\epsilon$$\n",
        "\n",
        "Where $\\mu$ is the mean and $\\Sigma$ is the covariance matrix. This is useful because it will let us neatly define the loss function for the VAE, generate randomly sampled latent variables, achieve improved network generalization, make our complete VAE network differentiable so that it can be trained via backpropagation. Quite powerful!\n",
        "\n",
        "Let's define a function to implement the VAE sampling operation:"
      ]
    },
    {
      "cell_type": "code",
      "execution_count": null,
      "metadata": {
        "id": "cT6PGdNajl3K"
      },
      "outputs": [],
      "source": [
        "def sampling(z_mean, z_logsigma):\n",
        "    '''Performing the reparameterization trick by sampling from a standard Gaussian distribution.\n",
        "\n",
        "    Inputs:\n",
        "    * mean of latent distribution - z_mean,\n",
        "    * log of standard deviation of latent distribution - z_logsigma\n",
        "\n",
        "    Outputs:\n",
        "    * sampled latent vector - z\n",
        "    '''\n",
        "\n",
        "    # Create a standard Gaussian distribution with the same shape as z_mean.\n",
        "    eps = torch.randn_like(z_mean)\n",
        "\n",
        "    # TODO: Define the reparameterization computation! Note the equation is given in the text block immediately above.\n",
        "    z = # TODO\n",
        "\n",
        "    return z"
      ]
    },
    {
      "cell_type": "markdown",
      "metadata": {
        "id": "qtHEYI9KNn0A"
      },
      "source": [
        "## 2.5 Debiasing variational autoencoder (DB-VAE)\n",
        "\n",
        "Now, we'll use the general idea behind the VAE architecture to build a model, termed a [*debiasing variational autoencoder*](https://introtodeeplearning.com/AAAI_MitigatingAlgorithmicBias.pdf) or DB-VAE, to mitigate (potentially) unknown biases present within the training idea. We'll train our DB-VAE model on the facial detection task, run the debiasing operation during training, evaluate on the PPB dataset, and compare its accuracy to our original, biased CNN model.    \n",
        "\n",
        "### The DB-VAE model\n",
        "\n",
        "The key idea behind this debiasing approach is to use the latent variables learned via a VAE to adaptively re-sample the CelebA data during training. Specifically, we will alter the probability that a given image is used during training based on how often its latent features appear in the dataset. So, faces with rarer features (like dark skin, sunglasses, or hats) should become more likely to be sampled during training, while the sampling probability for faces with features that are over-represented in the training dataset should decrease (relative to uniform random sampling across the training data).\n",
        "\n",
        "A general schematic of the DB-VAE approach is shown here:\n",
        "\n",
        "![DB-VAE](https://raw.githubusercontent.com/MITDeepLearning/introtodeeplearning/2019/lab2/img/DB-VAE.png)"
      ]
    },
    {
      "cell_type": "markdown",
      "metadata": {
        "id": "ziA75SN-UxxO"
      },
      "source": [
        "Recall that we want to apply our DB-VAE to a *supervised classification* problem -- the facial detection task. Importantly, note how the encoder portion in the DB-VAE architecture also outputs a single supervised variable, $z_o$, corresponding to the class prediction -- face or not face. Usually, VAEs are not trained to output any supervised variables (such as a class prediction)! This is another key distinction between the DB-VAE and a traditional VAE.\n",
        "\n",
        "Keep in mind that we only want to learn the latent representation of *faces*, as that's what we're ultimately debiasing against, even though we are training a model on a binary classification problem. We'll need to ensure that, **for faces**, our DB-VAE model both learns a representation of the unsupervised latent variables, captured by the distribution $q_\\phi(z|x)$, **and** outputs a supervised class prediction $z_o$, but that, **for negative examples**, it only outputs a class prediction $z_o$."
      ]
    },
    {
      "cell_type": "markdown",
      "metadata": {
        "id": "XggIKYPRtOZR"
      },
      "source": [
        "### Defining the DB-VAE loss function\n",
        "\n",
        "This means we'll need to be a bit clever about the loss function for the DB-VAE. The form of the loss will depend on whether it's a face image or a non-face image that's being considered.\n",
        "\n",
        "For **face images**, our loss function will have two components:\n",
        "\n",
        "\n",
        "1.   **VAE loss ($L_{VAE}$)**: consists of the latent loss and the reconstruction loss.\n",
        "2.   **Classification loss ($L_y(y,\\hat{y})$)**: standard cross-entropy loss for a binary classification problem.\n",
        "\n",
        "In contrast, for images of **non-faces**, our loss function is solely the classification loss.\n",
        "\n",
        "We can write a single expression for the loss by defining an indicator variable ${I}_f$which reflects which training data are images of faces (${I}_f(y) = 1$ ) and which are images of non-faces (${I}_f(y) = 0$). Using this, we obtain:\n",
        "\n",
        "$$L_{total} = L_y(y,\\hat{y}) + {I}_f(y)\\Big[L_{VAE}\\Big]$$\n",
        "\n",
        "Let's write a function to define the DB-VAE loss function:\n"
      ]
    },
    {
      "cell_type": "code",
      "execution_count": null,
      "metadata": {
        "id": "VjieDs8Ovcqs"
      },
      "outputs": [],
      "source": [
        "def debiasing_loss_function(x, x_pred, y, y_logit, mu, logsigma):\n",
        "    '''Loss function for the DB-VAE model.\n",
        "\n",
        "    Inputs:\n",
        "    * true input - x\n",
        "    * reconstructed input - x_pred\n",
        "    * true label (face or not face) - y\n",
        "    * predicted labels - y_logit\n",
        "    * mean of latent distribution - mu\n",
        "    * log of standard deviation of latent distribution - logsigma\n",
        "\n",
        "    Outputs:\n",
        "    * total loss of the DB-VAE - total_loss\n",
        "    * classification loss of the DB-VAE - classification_loss\n",
        "    '''\n",
        "\n",
        "    # TODO: Call the relevant function with the correct inputs to get the VAE loss.\n",
        "    vae_loss = vae_loss_function('''TODO''') # TODO\n",
        "\n",
        "    # TODO: Define the classification loss with binary_cross_entropy.\n",
        "    # https://pytorch.org/docs/stable/generated/torch.nn.functional.binary_cross_entropy_with_logits.html\n",
        "    # Binary cross entropy is perfect for our classification task as it squashes all values to be between 0 and 1.\n",
        "    classification_loss = F.binary_cross_entropy_with_logits('''TODO''', reduction=\"none\")\n",
        "\n",
        "    # Use the training data labels to create an indicator that marks the images that are faces.\n",
        "    y = y.float()\n",
        "    face_indicator = (y == 1.0).float()\n",
        "\n",
        "    # TODO: Define the DB-VAE's total loss. Use torch.mean to average over all data samples.\n",
        "    total_loss = # TODO\n",
        "\n",
        "    return total_loss, classification_loss"
      ]
    },
    {
      "cell_type": "markdown",
      "metadata": {
        "id": "YIu_2LzNWwWY"
      },
      "source": [
        "### DB-VAE architecture\n",
        "\n",
        "Now we're ready to define the DB-VAE architecture. To build the DB-VAE, we will use the standard CNN classifier from above as our encoder, and then define a decoder network. We will create and initialize the two models, and then construct the end-to-end VAE. We will use a latent space with 100 latent variables.\n",
        "\n",
        "The decoder network will take as input the sampled latent variables, run them through a series of deconvolutional layers, and output a reconstruction of the original input image."
      ]
    },
    {
      "cell_type": "code",
      "execution_count": null,
      "metadata": {
        "id": "JfWPHGrmyE7R"
      },
      "outputs": [],
      "source": [
        "n_filters = 12 # Factor for the number of deconvolutional filters/feature maps in our model.\n",
        "latent_dim = 100 # Dimensionality of the latent space, represents the amount of compression our images will go through.\n",
        "\n",
        "def make_face_decoder_network(latent_dim):\n",
        "    class FaceDecoder(nn.Module):\n",
        "        def __init__(self, latent_dim, n_filters):\n",
        "            super(FaceDecoder, self).__init__()\n",
        "\n",
        "            self.latent_dim = latent_dim\n",
        "            self.n_filters = n_filters\n",
        "\n",
        "            # Dense (fully connected) layer to expand the 100-dimensional latent space into a more representative 1-dimensional feature map.\n",
        "            self.linear = nn.Sequential(\n",
        "                nn.Linear(latent_dim, 4 * 4 * 6 * n_filters), nn.ReLU()\n",
        "            )\n",
        "\n",
        "            # Using deconvolution to decrease the number of feature maps and reach an actual generated output.\n",
        "            self.deconv = nn.Sequential(\n",
        "                # Scale to 8 x 8 size with 48 feature maps and kernel size 3 x 3.\n",
        "                nn.ConvTranspose2d(in_channels=6*n_filters, out_channels=4*n_filters, kernel_size=3, stride=2, padding=1, output_padding=1),\n",
        "                nn.ReLU(),\n",
        "\n",
        "                # Scale to 16 x 16 size with 24 feature maps and kernel size 3 x 3.\n",
        "                nn.ConvTranspose2d(in_channels=4*n_filters, out_channels=2*n_filters, kernel_size=3, stride=2, padding=1, output_padding=1),\n",
        "                nn.ReLU(),\n",
        "\n",
        "                # Scale to 32 x 32 size with 12 feature maps and kernel size 5 x 5 (capture more structure).\n",
        "                nn.ConvTranspose2d(in_channels=2*n_filters, out_channels=n_filters, kernel_size=5, stride=2, padding=2, output_padding=1),\n",
        "                nn.ReLU(),\n",
        "\n",
        "                # Scale to 64 x 64 size with 3 feature maps (RGB) and kernel size 5 x 5.\n",
        "                nn.ConvTranspose2d(in_channels=n_filters, out_channels=3, kernel_size=5, stride=2, padding=2, output_padding=1)\n",
        "            )\n",
        "\n",
        "        def forward(self, z):\n",
        "            x = self.linear(z) # Pass the input through our initial dense layer.\n",
        "            x = x.view(-1, 6 * self.n_filters, 4, 4) # Change the shape of those outputs to be compatible with the deconvolution.\n",
        "\n",
        "            # Use the deconvolution to achieve the final decoder output.\n",
        "            y = self.deconv(x)  # [B, 3, 64, 64]\n",
        "            return y\n",
        "\n",
        "    return FaceDecoder(latent_dim, n_filters)"
      ]
    },
    {
      "cell_type": "markdown",
      "metadata": {
        "id": "yWCMu12w1BuD"
      },
      "source": [
        "Now, we will put this decoder together with the standard CNN classifier as our encoder to define the DB-VAE. Note that at this point, there is nothing special about how we put the model together that makes it a \"debiasing\" model -- that will come when we define the training operation. Here, we will define the core VAE architecture by sublassing `nn.Module` class; defining encoding, reparameterization, and decoding operations; and calling the network end-to-end."
      ]
    },
    {
      "cell_type": "code",
      "execution_count": null,
      "metadata": {
        "id": "dSFDcFBL13c3"
      },
      "outputs": [],
      "source": [
        "class DB_VAE(nn.Module):\n",
        "    def __init__(self, latent_dim):\n",
        "        super(DB_VAE, self).__init__()\n",
        "        self.latent_dim = latent_dim # Take an input of latent_dim to define the model's latent dimensionality.\n",
        "\n",
        "        # Define the number of outputs for the encoder. We will also have latent_dim latent variables.\n",
        "        num_encoder_dims = 2*self.latent_dim + 1\n",
        "\n",
        "        self.encoder = make_cnn_standard_classifier(num_encoder_dims) # Define our encoder with the set dimensionality using the standard CNN.\n",
        "        self.decoder = make_face_decoder_network(latent_dim) # Define our decoder using the new function we just created.\n",
        "\n",
        "    def encode(self, x):\n",
        "        # Get the output of the encoder based on its inputs.\n",
        "        encoder_output = self.encoder(x)\n",
        "        # Get the actual classifications based on those outputs.\n",
        "        y_logit = encoder_output[:, 0].unsqueeze(-1)\n",
        "\n",
        "        # Get the mean and log of standard deviation for the latent space.\n",
        "        z_mean = encoder_output[:, 1 : self.latent_dim + 1]\n",
        "        z_logsigma = encoder_output[:, self.latent_dim + 1 :]\n",
        "\n",
        "        return y_logit, z_mean, z_logsigma\n",
        "\n",
        "    def reparameterize(self, z_mean, z_logsigma):\n",
        "        # TODO: Call the sampling function defined previously.\n",
        "        z = # TODO Given the latent space's mean and log of standard deviation, sample some latent variables.\n",
        "\n",
        "        return z\n",
        "\n",
        "    def decode(self, z):\n",
        "        # TODO: Use the decoder to take the reparameterized samples and output the reconstruction.\n",
        "        reconstruction = # TODO Pass the samples through the decoder, get the reconstruction.\n",
        "\n",
        "        return reconstruction\n",
        "\n",
        "    # The call function passes an input of x all the way through the DB-VAE.\n",
        "    def forward(self, x):\n",
        "        # Encode the input to the latent space and get a prediction.\n",
        "        y_logit, z_mean, z_logsigma = self.encode(x)\n",
        "\n",
        "        # TODO: Perform reparameterization on the latent space.\n",
        "        z = # TODO\n",
        "\n",
        "        # TODO: Find the reconstruction based on the reparameterized samples.\n",
        "        recon = # TODO\n",
        "\n",
        "        return y_logit, z_mean, z_logsigma, recon # Return the predictions, latent space, and reconstruction.\n",
        "\n",
        "    # Based on an input of x, predict if it is a face or not.\n",
        "    def predict(self, x):\n",
        "        y_logit, z_mean, z_logsigma = self.encode(x) # Use the encoder just like a CNN.\n",
        "        return y_logit # Return only the prediction without the latent space.\n",
        "\n",
        "dbvae = DB_VAE(latent_dim) # Define our DB-VAE with the set latent dimensionality from before (should be 100)."
      ]
    },
    {
      "cell_type": "markdown",
      "metadata": {
        "id": "M-clbYAj2waY"
      },
      "source": [
        "As stated, the encoder architecture is identical to the CNN from earlier in this lab. Note the outputs of our constructed DB_VAE model in the `forward` function: `y_logit, z_mean, z_logsigma, z`. Think carefully about why each of these are outputted and their significance to the problem at hand.\n",
        "\n"
      ]
    },
    {
      "cell_type": "markdown",
      "metadata": {
        "id": "nbDNlslgQc5A"
      },
      "source": [
        "### Adaptive resampling for automated debiasing with DB-VAE\n",
        "\n",
        "So, how can we actually use DB-VAE to train a debiased facial detection classifier?\n",
        "\n",
        "Recall the DB-VAE architecture: as input images are fed through the network, the encoder learns an estimate ${Q}(z|X)$ of the latent space. We want to increase the relative frequency of rare data by increased sampling of under-represented regions of the latent space. We can approximate ${Q}(z|X)$ using the frequency distributions of each of the learned latent variables, and then define the probability distribution of selecting a given datapoint $x$ based on this approximation. These probability distributions will be used during training to re-sample the data.\n",
        "\n",
        "You'll write a function to execute this update of the sampling probabilities, and then call this function within the DB-VAE training loop to actually debias the model."
      ]
    },
    {
      "cell_type": "markdown",
      "metadata": {
        "id": "Fej5FDu37cf7"
      },
      "source": [
        "First, we've defined a short helper function `get_latent_mu` that returns the latent variable means returned by the encoder after a batch of images is inputted to the network:"
      ]
    },
    {
      "cell_type": "code",
      "execution_count": null,
      "metadata": {
        "id": "ewWbf7TE7wVc"
      },
      "outputs": [],
      "source": [
        "# Get the mean of the latent space.\n",
        "def get_latent_mu(images, dbvae, latent_dim, batch_size=1024):\n",
        "    '''Inputs:\n",
        "    * group of images - images\n",
        "    * model to pass images through - dbvae\n",
        "    * latent space dimensionality - latent_dim\n",
        "    * number of images randomly selected at one time - batch_size\n",
        "\n",
        "    Outputs:\n",
        "    * mean of the latent space for our given images - mu\n",
        "    '''\n",
        "\n",
        "    dbvae.eval() # Temporarily set the DB-VAE into its testing (eval) mode.\n",
        "    all_z_mean = [] # Create a list to contain all means from each batch.\n",
        "\n",
        "    # Convert the images into numerical format.\n",
        "    images_t = torch.from_numpy(images).float()\n",
        "\n",
        "    with torch.inference_mode(): # Make sure our model is outputting predictions for its inputs.\n",
        "        for start in range(0, len(images_t), batch_size): # Loop through every possible batch in our provided images.\n",
        "            end = start + batch_size # Loop provides starting index, so we need to find the ending index of our batch.\n",
        "            batch = images_t[start:end] # Get our batch with the start and end indices.\n",
        "            batch = batch.to(device).permute(0, 3, 1, 2) # Change the shape of our batch and put it on the GPU.\n",
        "\n",
        "            _, z_mean, _ = dbvae.encode(batch) # Find the latent space mean for our batch by using our DB-VAE encoder.\n",
        "            all_z_mean.append(z_mean.cpu()) # Add the batch mean to the overall mean list.\n",
        "\n",
        "    # Put together all of the batch means and convert them to a nparray.\n",
        "    z_mean_full = torch.cat(all_z_mean, dim=0)\n",
        "    mu = z_mean_full.numpy()\n",
        "\n",
        "    return mu"
      ]
    },
    {
      "cell_type": "markdown",
      "metadata": {
        "id": "wn4yK3SC72bo"
      },
      "source": [
        "Now, let's define the actual resampling algorithm `get_training_sample_probabilities`. Importantly note the argument `smoothing_fac`. This parameter tunes the degree of debiasing: for `smoothing_fac=0`, the re-sampled training set will tend towards falling uniformly over the latent space, i.e., the most extreme debiasing."
      ]
    },
    {
      "cell_type": "code",
      "execution_count": null,
      "metadata": {
        "id": "HiX9pmmC7_wn"
      },
      "outputs": [],
      "source": [
        "def get_training_sample_probabilities(images, dbvae, latent_dim, bins=10):\n",
        "    '''Function that recomputes the latent space sampling probabilities for the images within a given batch based on their feature distribution in the training data.\n",
        "\n",
        "    Inputs:\n",
        "    * group of images - images\n",
        "    * model to pass images through - dbvae\n",
        "    * latent space dimensionality - latent_dim\n",
        "    * number of classes for probabilities - bins\n",
        "\n",
        "    Outputs:\n",
        "    * new sampling probabilities - training_sample_p\n",
        "    '''\n",
        "\n",
        "    print(\"Recomputing the sampling probabilities\")\n",
        "\n",
        "    # TODO: Get the mean of the latent space for our given images.\n",
        "    mu = get_latent_mu('''TODO''') # TODO Remember to use the correct inputs for the function.\n",
        "\n",
        "    training_sample_p = np.zeros(mu.shape[0], dtype=np.float64) # Initialize our new sampling probabilities to be as large as our means.\n",
        "\n",
        "    for i in range(latent_dim): # Loop through every latent variable in the latent space.\n",
        "        latent_distribution = mu[:,i] # Get the means for all of the images at our given latent variable.\n",
        "\n",
        "        hist_density, bin_edges = np.histogram(latent_distribution, density=True, bins=bins) # Create a histogram using the latent distribution and our set number of bins.\n",
        "\n",
        "        # Extend the range of our histogram to be infinite.\n",
        "        bin_edges[0] = -float(\"inf\")\n",
        "        bin_edges[-1] = float(\"inf\")\n",
        "\n",
        "        # TODO: Use the np.digitize function to find the bins in the latent distribution that every data sample falls into.\n",
        "        # https://numpy.org/doc/stable/reference/generated/numpy.digitize.html\n",
        "        bin_idx = np.digitize('''TODO''', '''TODO''') # TODO\n",
        "\n",
        "        # Smooth the histogram to become a probability distribution that sums to 1.\n",
        "        hist_smoothed_density = hist_density / np.sum(hist_density)\n",
        "\n",
        "        # Invert the newly smoothed histogram.\n",
        "        p = 1.0 / (hist_smoothed_density[bin_idx - 1])\n",
        "\n",
        "        # TODO: Normalize all the inverted probabilities just like our smoothing operation from before.\n",
        "        p = # TODO\n",
        "\n",
        "        # TODO: Update the sampling probabilities by comparing the new probability distribution to the existing one to find which is larger.\n",
        "        training_sample_p = # TODO\n",
        "\n",
        "    # After the probability distribution is finalized, perform the final smoothing operation on our probability distribution.\n",
        "    training_sample_p /= np.sum(training_sample_p)\n",
        "\n",
        "    return training_sample_p"
      ]
    },
    {
      "cell_type": "markdown",
      "metadata": {
        "id": "pF14fQkVUs-a"
      },
      "source": [
        "Now that we've defined the resampling update, we can train our DB-VAE model on the CelebA/ImageNet training data, and run the above operation to re-weight the importance of particular data points as we train the model. Remember again that we only want to debias for features relevant to *faces*, not the set of negative examples. Complete the code block below to execute the training loop!"
      ]
    },
    {
      "cell_type": "code",
      "execution_count": null,
      "metadata": {
        "id": "xwQs-Gu5bKEK"
      },
      "outputs": [],
      "source": [
        "# Training hyperparameters - experiment to find what reaches the highest accuracy\n",
        "params = dict(\n",
        "  batch_size = 32, # Number of random training examples fed in at one time.\n",
        "  learning_rate = 3e-5, # Learning rate for the optimizer.\n",
        "  latent_dim = 200 # Number of dimensions in the latent space.\n",
        ")\n",
        "# Create a new DB-VAE model with our set latent space dimensionality.\n",
        "dbvae = DB_VAE(params[\"latent_dim\"]).to(device)\n",
        "# Find other optimizers to try at https://pytorch.org/docs/stable/optim.html#algorithms.\n",
        "optimizer = optim.Adam(dbvae.parameters(), lr=params[\"learning_rate\"])\n",
        "\n",
        "loss_history = mdl.util.LossHistory(smoothing_factor=0.99) # Create a list to track our loss during the training process.\n",
        "plotter = mdl.util.PeriodicPlotter(sec=2, xlabel='Iterations', ylabel='Loss') # Create a graph to plot the loss during the training process.\n",
        "if hasattr(tqdm, '_instances'): tqdm._instances.clear() # Clear any previous progress bars if they exist.\n",
        "\n",
        "def debiasing_train_step(x, y):\n",
        "    x = torch.from_numpy(x).float().to(device)\n",
        "    y = torch.from_numpy(y).float().to(device)\n",
        "\n",
        "    # Clear the previous gradients of the optimizer.\n",
        "    optimizer.zero_grad()\n",
        "\n",
        "    # Feed the given images into the model. Note that this automatically uses the DB-VAE call function.\n",
        "    y_logit, z_mean, z_logsigma, x_recon = dbvae(x)\n",
        "\n",
        "    '''TODO: Call the DB-VAE loss function to compute the loss'''\n",
        "    loss, class_loss = debiasing_loss_function('''TODO arguments''') # TODO Compute the loss using the inputs, outputs, expected outputs, and latent space.\n",
        "\n",
        "    # Backpropagation by computing the gradient on our loss and applying it.\n",
        "    loss.backward() # Compute the gradient for the loss with the hyperparameters.\n",
        "    optimizer.step() # Apply the gradient on the model using our optimizer and the hyperparameters.\n",
        "\n",
        "    return loss # Return our loss for graphing purposes.\n",
        "\n",
        "# Get all of the training images that contain faces to train our model on them.\n",
        "all_faces = loader.get_all_train_faces()\n",
        "\n",
        "'''TODO: Recompute the sampling probabilities for debiasing.'''\n",
        "p_faces = get_training_sample_probabilities('''TODO''', '''TODO''') # TODO Use our previously defined function with the correct parameters.\n",
        "\n",
        "for _ in tqdm(range(loader.get_train_size() // params[\"batch_size\"])): # Compute number of possible batches that can be made from our dataset and train for every possible batch.\n",
        "    (x, y) = loader.get_batch(params[\"batch_size\"], p_pos=p_faces) # Get a batch of training data using the debiasing sampling probabilities.\n",
        "\n",
        "    # Compute the loss for these inputs.\n",
        "    loss = debiasing_train_step(x, y)\n",
        "    loss = loss.detach().cpu().numpy()\n",
        "\n",
        "    loss_history.append(loss) # Add the loss to the loss_history list.\n",
        "    plotter.plot(loss_history.get()) # Graph the new loss_history list for progress tracking.\n",
        "\n",
        "print('\\nFinal loss after training:', loss)"
      ]
    },
    {
      "cell_type": "markdown",
      "metadata": {
        "id": "uZBlWDPOVcHg"
      },
      "source": [
        "Wonderful! Now we should have a trained and debiased facial classification model, ready for evaluation!"
      ]
    },
    {
      "cell_type": "markdown",
      "metadata": {
        "id": "Eo34xC7MbaiQ"
      },
      "source": [
        "## 2.6 Evaluation of DB-VAE on Test Dataset\n",
        "\n",
        "Finally let's test our DB-VAE model on the test dataset, looking specifically at its accuracy on each the \"Dark Male\", \"Dark Female\", \"Light Male\", and \"Light Female\" demographics. We will compare the performance of this debiased model against the (potentially biased) standard CNN from earlier in the lab."
      ]
    },
    {
      "cell_type": "code",
      "execution_count": null,
      "metadata": {
        "id": "bgK77aB9oDtX"
      },
      "outputs": [],
      "source": [
        "dbvae.to(device) # Put the model on the GPU for faster predictions.\n",
        "dbvae_logits_list = [] # Store the probabilities for each demographic.\n",
        "\n",
        "for face in test_faces: # Input every face in our testing images.\n",
        "    # Convert it to numerical format.\n",
        "    face = np.asarray(face, dtype=np.float32)\n",
        "    face = torch.from_numpy(face).to(device)\n",
        "\n",
        "    with torch.inference_mode(): # Make sure our model is outputting predictions for its inputs.\n",
        "        logits = dbvae.predict(face) # Pass the input through our model.\n",
        "\n",
        "    dbvae_logits_list.append(logits.detach().cpu().numpy()) # Change the output to become a probability and add it to our storage list.\n",
        "\n",
        "# Sort our probabilities by demographic.\n",
        "dbvae_logits_array = np.concatenate(dbvae_logits_list, axis=0)\n",
        "dbvae_logits_tensor = torch.from_numpy(dbvae_logits_array)\n",
        "dbvae_probs_tensor = torch.sigmoid(dbvae_logits_tensor)\n",
        "dbvae_probs_array = dbvae_probs_tensor.squeeze(dim=-1).numpy()\n",
        "\n",
        "# Plot the prediction accuracies for each demographic from both our CNN and the new DB-VAE for comparison.\n",
        "xx = np.arange(len(keys))\n",
        "std_probs_mean = standard_cnn_classifier_probs.mean(axis=1)\n",
        "dbvae_probs_mean = dbvae_probs_array.reshape(len(keys), -1).mean(axis=1)\n",
        "plt.bar(xx, std_probs_mean, width=0.2, label=\"Standard CNN\")\n",
        "plt.bar(xx + 0.2, dbvae_probs_mean, width=0.2, label=\"DB-VAE\")\n",
        "plt.xticks(xx, keys)\n",
        "plt.title(\"Network predictions on test dataset\")\n",
        "plt.ylabel(\"Probability\")\n",
        "plt.legend(bbox_to_anchor=(1.04, 1), loc=\"upper left\")\n",
        "plt.show()"
      ]
    },
    {
      "cell_type": "markdown",
      "metadata": {
        "id": "rESoXRPQo_mq"
      },
      "source": [
        "## 2.7 Conclusion\n",
        "\n",
        "Now that you have created your debiased model, try to optimize it to achieve improved performance. We encourage you to think about and address some questions raised by the approach and results outlined here:\n",
        "\n",
        "*  How does the accuracy of the DB-VAE across the four demographics compare to that of the standard CNN? Do you find this result surprising in any way?\n",
        "*  How can the performance of the DB-VAE classifier be improved even further? We purposely did not optimize hyperparameters to leave this up to you!\n",
        "*  In which applications (either related to facial detection or not!) would debiasing in this way be desired? Are there applications where you may not want to debias your model?\n",
        "* Do you think it should be necessary for companies to demonstrate that their models, particularly in the context of tasks like facial detection, are not biased? If so, do you have thoughts on how this could be standardized and implemented?\n",
        "* Do you have ideas for other ways to address issues of bias, particularly in terms of the training data?\n",
        "\n",
        "Hopefully this lab has shed some light on a few concepts like vision based tasks, VAEs, and algorithmic bias. We definitely think it has, but we're biased 😉.\n",
        "\n",
        "<img src=\"https://i.ibb.co/BjLSRMM/ezgif-2-253dfd3f9097.gif\" />"
      ]
    }
  ],
  "metadata": {
    "accelerator": "GPU",
    "colab": {
      "collapsed_sections": [
        "Ag_e7xtTzT1W",
        "NDj7KBaW8Asz"
      ],
      "gpuType": "T4",
      "name": "Lab2.2 - Facial Recognition with VAEs, Debiasing, and PyTorch Solution.ipynb",
      "provenance": []
    },
    "kernelspec": {
      "display_name": "Python 3",
      "name": "python3"
    },
    "language_info": {
      "codemirror_mode": {
        "name": "ipython",
        "version": 3
      },
      "file_extension": ".py",
      "mimetype": "text/x-python",
      "name": "python",
      "nbconvert_exporter": "python",
      "pygments_lexer": "ipython3",
      "version": "3.10.16"
    }
  },
  "nbformat": 4,
  "nbformat_minor": 0
}
